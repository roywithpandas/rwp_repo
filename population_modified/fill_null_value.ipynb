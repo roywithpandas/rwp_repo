{
 "cells": [
  {
   "cell_type": "code",
   "execution_count": 1,
   "id": "initial_id",
   "metadata": {
    "collapsed": true,
    "ExecuteTime": {
     "end_time": "2023-11-17T10:32:49.146271Z",
     "start_time": "2023-11-17T10:32:49.144742Z"
    }
   },
   "outputs": [],
   "source": [
    "import pandas as pd"
   ]
  },
  {
   "cell_type": "markdown",
   "source": [
    "### check the sum of the null value of each columns from the multiple populations csv files"
   ],
   "metadata": {
    "collapsed": false
   },
   "id": "10e658ed9746077b"
  },
  {
   "cell_type": "code",
   "execution_count": 5,
   "outputs": [
    {
     "name": "stdout",
     "output_type": "stream",
     "text": [
      "Column 'Years': 0 NaN values\n",
      "Column 'Permanent population at the end of the year (10,000 people)': 0 NaN values\n",
      "Column 'Urban population (10,000 people)': 48 NaN values\n",
      "Column 'Rural population (10,000 people)': 48 NaN values\n",
      "Column 'Birth rate (%)': 16 NaN values\n",
      "Column 'Population death rate (%)': 16 NaN values\n",
      "Column 'Natural population growth rate (%)': 16 NaN values\n",
      "Column 'Unnamed: 7': 21 NaN values\n"
     ]
    }
   ],
   "source": [
    "import pandas as pd\n",
    "\n",
    "# List of file names\n",
    "file_names = ['East-BeijingCity_population_modified.csv',\n",
    "              'East-FujianProvince_population_modified.csv',\n",
    "              'East-JiangsuProvince_population_modified.csv',\n",
    "              'East-ShandongProvince_population_modified.csv',\n",
    "              'East-ShanghaiCity_population_modified.csv',\n",
    "              'South-GuangdongProvince_population_modified.csv',\n",
    "              'South-GuizhouProvince_population_modified.csv',\n",
    "              'South-HenanProvince_population_modified.csv',\n",
    "              'South-HubeiProvince_population_modified.csv',\n",
    "              'South-HunanProvince_population_modified.csv',\n",
    "              'South-JiangxiProvince_population_modified.csv',\n",
    "              'South-ShaanxiProvince_population_modified.csv',\n",
    "              'West-ChongqingCity_population_modified.csv',\n",
    "              'West-SichuanProvince_population_modified.csv',\n",
    "              'YunnanProvince_population_modified.csv',\n",
    "              'ZhejiangProvince_population_modified.csv']\n",
    "\n",
    "# Initialize a dictionary to store the sum of NaN values for each column\n",
    "na_sum_dict = {}\n",
    "\n",
    "# Loop through each file\n",
    "for file_name in file_names:\n",
    "    # Read the CSV file\n",
    "    df = pd.read_csv(file_name)\n",
    "\n",
    "    # Calculate the sum of NaN values for each column\n",
    "    na_sum_per_column = df.isna().sum()\n",
    "\n",
    "    # Update the dictionary with the sum of NaN values for each column\n",
    "    for column, na_sum in na_sum_per_column.items():\n",
    "        if column in na_sum_dict:\n",
    "            na_sum_dict[column] += na_sum\n",
    "        else:\n",
    "            na_sum_dict[column] = na_sum\n",
    "\n",
    "# Display the sum of NaN values for each column\n",
    "for column, na_sum in na_sum_dict.items():\n",
    "    print(f\"Column '{column}': {na_sum} NaN values\")\n"
   ],
   "metadata": {
    "collapsed": false,
    "ExecuteTime": {
     "end_time": "2023-11-17T10:39:57.189088Z",
     "start_time": "2023-11-17T10:39:57.169474Z"
    }
   },
   "id": "c42c681f0f88e105"
  },
  {
   "cell_type": "markdown",
   "source": [
    "### fill the null value using the ffill to fill the forward previous values"
   ],
   "metadata": {
    "collapsed": false
   },
   "id": "ca31cc34c364e015"
  },
  {
   "cell_type": "code",
   "execution_count": 7,
   "outputs": [
    {
     "name": "stdout",
     "output_type": "stream",
     "text": [
      "   Years  Permanent population at the end of the year (10,000 people)  \\\n",
      "0   2022                                               6577             \n",
      "1   2021                                               6540             \n",
      "2   2020                                               6468             \n",
      "3   2019                                               6375             \n",
      "4   2018                                               6273             \n",
      "\n",
      "   Urban population (10,000 people)  Rural population (10,000 people)  \\\n",
      "0                            4826.0                            1751.0   \n",
      "1                            4752.0                            1788.0   \n",
      "2                            4668.0                            1800.0   \n",
      "3                            4563.0                            1812.0   \n",
      "4                            4392.0                            1881.0   \n",
      "\n",
      "   Birth rate (%)  Population death rate (%)  \\\n",
      "0            6.28                       6.24   \n",
      "1            6.90                       5.90   \n",
      "2            6.90                       5.90   \n",
      "3           10.51                       5.52   \n",
      "4           11.02                       5.58   \n",
      "\n",
      "   Natural population growth rate (%)  \n",
      "0                                0.04  \n",
      "1                                1.00  \n",
      "2                                1.00  \n",
      "3                                4.99  \n",
      "4                                5.44  \n"
     ]
    },
    {
     "name": "stderr",
     "output_type": "stream",
     "text": [
      "/var/folders/vg/zd3w7zhd1r970sv3p_1kk5ww0000gn/T/ipykernel_7579/1724694449.py:33: FutureWarning: DataFrame.fillna with 'method' is deprecated and will raise in a future version. Use obj.ffill() or obj.bfill() instead.\n",
      "  df[columns_to_fill] = df[columns_to_fill].fillna(method='ffill')\n",
      "/var/folders/vg/zd3w7zhd1r970sv3p_1kk5ww0000gn/T/ipykernel_7579/1724694449.py:33: FutureWarning: DataFrame.fillna with 'method' is deprecated and will raise in a future version. Use obj.ffill() or obj.bfill() instead.\n",
      "  df[columns_to_fill] = df[columns_to_fill].fillna(method='ffill')\n",
      "/var/folders/vg/zd3w7zhd1r970sv3p_1kk5ww0000gn/T/ipykernel_7579/1724694449.py:33: FutureWarning: DataFrame.fillna with 'method' is deprecated and will raise in a future version. Use obj.ffill() or obj.bfill() instead.\n",
      "  df[columns_to_fill] = df[columns_to_fill].fillna(method='ffill')\n",
      "/var/folders/vg/zd3w7zhd1r970sv3p_1kk5ww0000gn/T/ipykernel_7579/1724694449.py:33: FutureWarning: DataFrame.fillna with 'method' is deprecated and will raise in a future version. Use obj.ffill() or obj.bfill() instead.\n",
      "  df[columns_to_fill] = df[columns_to_fill].fillna(method='ffill')\n",
      "/var/folders/vg/zd3w7zhd1r970sv3p_1kk5ww0000gn/T/ipykernel_7579/1724694449.py:33: FutureWarning: DataFrame.fillna with 'method' is deprecated and will raise in a future version. Use obj.ffill() or obj.bfill() instead.\n",
      "  df[columns_to_fill] = df[columns_to_fill].fillna(method='ffill')\n",
      "/var/folders/vg/zd3w7zhd1r970sv3p_1kk5ww0000gn/T/ipykernel_7579/1724694449.py:33: FutureWarning: DataFrame.fillna with 'method' is deprecated and will raise in a future version. Use obj.ffill() or obj.bfill() instead.\n",
      "  df[columns_to_fill] = df[columns_to_fill].fillna(method='ffill')\n",
      "/var/folders/vg/zd3w7zhd1r970sv3p_1kk5ww0000gn/T/ipykernel_7579/1724694449.py:33: FutureWarning: DataFrame.fillna with 'method' is deprecated and will raise in a future version. Use obj.ffill() or obj.bfill() instead.\n",
      "  df[columns_to_fill] = df[columns_to_fill].fillna(method='ffill')\n",
      "/var/folders/vg/zd3w7zhd1r970sv3p_1kk5ww0000gn/T/ipykernel_7579/1724694449.py:33: FutureWarning: DataFrame.fillna with 'method' is deprecated and will raise in a future version. Use obj.ffill() or obj.bfill() instead.\n",
      "  df[columns_to_fill] = df[columns_to_fill].fillna(method='ffill')\n",
      "/var/folders/vg/zd3w7zhd1r970sv3p_1kk5ww0000gn/T/ipykernel_7579/1724694449.py:33: FutureWarning: DataFrame.fillna with 'method' is deprecated and will raise in a future version. Use obj.ffill() or obj.bfill() instead.\n",
      "  df[columns_to_fill] = df[columns_to_fill].fillna(method='ffill')\n",
      "/var/folders/vg/zd3w7zhd1r970sv3p_1kk5ww0000gn/T/ipykernel_7579/1724694449.py:33: FutureWarning: DataFrame.fillna with 'method' is deprecated and will raise in a future version. Use obj.ffill() or obj.bfill() instead.\n",
      "  df[columns_to_fill] = df[columns_to_fill].fillna(method='ffill')\n",
      "/var/folders/vg/zd3w7zhd1r970sv3p_1kk5ww0000gn/T/ipykernel_7579/1724694449.py:33: FutureWarning: DataFrame.fillna with 'method' is deprecated and will raise in a future version. Use obj.ffill() or obj.bfill() instead.\n",
      "  df[columns_to_fill] = df[columns_to_fill].fillna(method='ffill')\n",
      "/var/folders/vg/zd3w7zhd1r970sv3p_1kk5ww0000gn/T/ipykernel_7579/1724694449.py:33: FutureWarning: DataFrame.fillna with 'method' is deprecated and will raise in a future version. Use obj.ffill() or obj.bfill() instead.\n",
      "  df[columns_to_fill] = df[columns_to_fill].fillna(method='ffill')\n",
      "/var/folders/vg/zd3w7zhd1r970sv3p_1kk5ww0000gn/T/ipykernel_7579/1724694449.py:33: FutureWarning: DataFrame.fillna with 'method' is deprecated and will raise in a future version. Use obj.ffill() or obj.bfill() instead.\n",
      "  df[columns_to_fill] = df[columns_to_fill].fillna(method='ffill')\n",
      "/var/folders/vg/zd3w7zhd1r970sv3p_1kk5ww0000gn/T/ipykernel_7579/1724694449.py:33: FutureWarning: DataFrame.fillna with 'method' is deprecated and will raise in a future version. Use obj.ffill() or obj.bfill() instead.\n",
      "  df[columns_to_fill] = df[columns_to_fill].fillna(method='ffill')\n",
      "/var/folders/vg/zd3w7zhd1r970sv3p_1kk5ww0000gn/T/ipykernel_7579/1724694449.py:33: FutureWarning: DataFrame.fillna with 'method' is deprecated and will raise in a future version. Use obj.ffill() or obj.bfill() instead.\n",
      "  df[columns_to_fill] = df[columns_to_fill].fillna(method='ffill')\n",
      "/var/folders/vg/zd3w7zhd1r970sv3p_1kk5ww0000gn/T/ipykernel_7579/1724694449.py:33: FutureWarning: DataFrame.fillna with 'method' is deprecated and will raise in a future version. Use obj.ffill() or obj.bfill() instead.\n",
      "  df[columns_to_fill] = df[columns_to_fill].fillna(method='ffill')\n"
     ]
    }
   ],
   "source": [
    "# List of file names\n",
    "file_names = ['East-BeijingCity_population_modified.csv',\n",
    "              'East-FujianProvince_population_modified.csv',\n",
    "              'East-JiangsuProvince_population_modified.csv',\n",
    "              'East-ShandongProvince_population_modified.csv',\n",
    "              'East-ShanghaiCity_population_modified.csv',\n",
    "              'South-GuangdongProvince_population_modified.csv',\n",
    "              'South-GuizhouProvince_population_modified.csv',\n",
    "              'South-HenanProvince_population_modified.csv',\n",
    "              'South-HubeiProvince_population_modified.csv',\n",
    "              'South-HunanProvince_population_modified.csv',\n",
    "              'South-JiangxiProvince_population_modified.csv',\n",
    "              'South-ShaanxiProvince_population_modified.csv',\n",
    "              'West-ChongqingCity_population_modified.csv',\n",
    "              'West-SichuanProvince_population_modified.csv',\n",
    "              'YunnanProvince_population_modified.csv',\n",
    "              'ZhejiangProvince_population_modified.csv']\n",
    "\n",
    "# Specify the columns to fill NaN values\n",
    "columns_to_fill = ['Permanent population at the end of the year (10,000 people)',\n",
    "                   'Urban population (10,000 people)',\n",
    "                   'Rural population (10,000 people)',\n",
    "                   'Birth rate (%)',\n",
    "                   'Population death rate (%)',\n",
    "                   'Natural population growth rate (%)']\n",
    "\n",
    "# Loop through each file\n",
    "for file_name in file_names:\n",
    "    # Read the CSV file\n",
    "    df = pd.read_csv(file_name)\n",
    "\n",
    "    # Fill NaN values in the specified columns with the last non-null value (forward fill)\n",
    "    df[columns_to_fill] = df[columns_to_fill].fillna(method='ffill')\n",
    "\n",
    "    # Save the modified DataFrame back to the CSV file\n",
    "    df.to_csv(file_name, index=False)\n",
    "\n",
    "# Display the first few rows of one of the modified DataFrames\n",
    "print(df.head())\n"
   ],
   "metadata": {
    "collapsed": false,
    "ExecuteTime": {
     "end_time": "2023-11-17T10:40:43.305497Z",
     "start_time": "2023-11-17T10:40:43.273531Z"
    }
   },
   "id": "4f1adea24d7a90e6"
  },
  {
   "cell_type": "markdown",
   "source": [
    "### check the null value after used ffill"
   ],
   "metadata": {
    "collapsed": false
   },
   "id": "cf9f0c764d5aeb97"
  },
  {
   "cell_type": "code",
   "execution_count": 9,
   "outputs": [
    {
     "name": "stdout",
     "output_type": "stream",
     "text": [
      "Column 'Years': 0 NaN values\n",
      "Column 'Permanent population at the end of the year (10,000 people)': 0 NaN values\n",
      "Column 'Urban population (10,000 people)': 0 NaN values\n",
      "Column 'Rural population (10,000 people)': 0 NaN values\n",
      "Column 'Birth rate (%)': 0 NaN values\n",
      "Column 'Population death rate (%)': 0 NaN values\n",
      "Column 'Natural population growth rate (%)': 0 NaN values\n",
      "Column 'Unnamed: 7': 21 NaN values\n"
     ]
    }
   ],
   "source": [
    "import pandas as pd\n",
    "\n",
    "# List of file names\n",
    "file_names = ['East-BeijingCity_population_modified.csv',\n",
    "              'East-FujianProvince_population_modified.csv',\n",
    "              'East-JiangsuProvince_population_modified.csv',\n",
    "              'East-ShandongProvince_population_modified.csv',\n",
    "              'East-ShanghaiCity_population_modified.csv',\n",
    "              'South-GuangdongProvince_population_modified.csv',\n",
    "              'South-GuizhouProvince_population_modified.csv',\n",
    "              'South-HenanProvince_population_modified.csv',\n",
    "              'South-HubeiProvince_population_modified.csv',\n",
    "              'South-HunanProvince_population_modified.csv',\n",
    "              'South-JiangxiProvince_population_modified.csv',\n",
    "              'South-ShaanxiProvince_population_modified.csv',\n",
    "              'West-ChongqingCity_population_modified.csv',\n",
    "              'West-SichuanProvince_population_modified.csv',\n",
    "              'YunnanProvince_population_modified.csv',\n",
    "              'ZhejiangProvince_population_modified.csv']\n",
    "\n",
    "# Initialize a dictionary to store the sum of NaN values for each column\n",
    "na_sum_dict = {}\n",
    "\n",
    "# Loop through each file\n",
    "for file_name in file_names:\n",
    "    # Read the CSV file\n",
    "    df = pd.read_csv(file_name)\n",
    "\n",
    "    # Calculate the sum of NaN values for each column\n",
    "    na_sum_per_column = df.isna().sum()\n",
    "\n",
    "    # Update the dictionary with the sum of NaN values for each column\n",
    "    for column, na_sum in na_sum_per_column.items():\n",
    "        if column in na_sum_dict:\n",
    "            na_sum_dict[column] += na_sum\n",
    "        else:\n",
    "            na_sum_dict[column] = na_sum\n",
    "\n",
    "# Display the sum of NaN values for each column\n",
    "for column, na_sum in na_sum_dict.items():\n",
    "    print(f\"Column '{column}': {na_sum} NaN values\")\n"
   ],
   "metadata": {
    "collapsed": false,
    "ExecuteTime": {
     "end_time": "2023-11-17T10:41:23.621524Z",
     "start_time": "2023-11-17T10:41:23.593462Z"
    }
   },
   "id": "743517ad7655a8f8"
  },
  {
   "cell_type": "code",
   "execution_count": null,
   "outputs": [],
   "source": [],
   "metadata": {
    "collapsed": false
   },
   "id": "b9ee4869c49bbd11"
  }
 ],
 "metadata": {
  "kernelspec": {
   "display_name": "Python 3",
   "language": "python",
   "name": "python3"
  },
  "language_info": {
   "codemirror_mode": {
    "name": "ipython",
    "version": 2
   },
   "file_extension": ".py",
   "mimetype": "text/x-python",
   "name": "python",
   "nbconvert_exporter": "python",
   "pygments_lexer": "ipython2",
   "version": "2.7.6"
  }
 },
 "nbformat": 4,
 "nbformat_minor": 5
}
