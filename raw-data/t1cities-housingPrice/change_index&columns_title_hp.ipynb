{
 "cells": [
  {
   "cell_type": "code",
   "execution_count": 7,
   "id": "initial_id",
   "metadata": {
    "collapsed": true,
    "ExecuteTime": {
     "end_time": "2023-11-19T12:23:56.737285Z",
     "start_time": "2023-11-19T12:23:56.697235Z"
    }
   },
   "outputs": [
    {
     "name": "stdout",
     "output_type": "stream",
     "text": [
      "      商品房平均销售价格(元/平方米)  住宅商品房平均销售价格(元/平方米)  别墅、高档公寓平均销售价格(元/平方米)  \\\n",
      "时间                                                                 \n",
      "2022           8153.00             8869.00                   NaN   \n",
      "2021           7885.00             8304.00                   NaN   \n",
      "2020           7840.00             8041.00                   NaN   \n",
      "2019           7448.00             7529.00              12669.00   \n",
      "2018           6987.58             6691.23              11340.48   \n",
      "\n",
      "      办公楼商品房平均销售价格(元/平方米)  商业营业用房平均销售价格(元/平方米)  其他商品房平均销售价格(元/平方米)  \n",
      "时间                                                                  \n",
      "2022              9561.00               9953.0             2536.00  \n",
      "2021             10004.00              10259.0             2919.00  \n",
      "2020              9528.00              10422.0             3094.00  \n",
      "2019              9381.00              10606.0             3242.00  \n",
      "2018             10666.92              11479.3             3880.95  \n"
     ]
    }
   ],
   "source": [
    "import pandas as pd\n",
    "import os\n",
    "\n",
    "# List of eastern provinces' names\n",
    "province_names = ['East-Beijing', 'East-FujianProvince', 'East-JiangsuProvince', 'East-ShandongProvince', 'East-Shanghai', 'East-ZhejiangProvince',\n",
    "                  'South-GuangdongProvince','South-GuizhouProvince','South-HenanProvince','South-HubeiProvince','South-HunanProvince',\n",
    "                  'South-JiangxiProvince','South-ShaanxiProvince','South-YunnanProvince','West-ChongqingCity','West-SichuanProvince']\n",
    "\n",
    "# Loop through each province\n",
    "for province in province_names:\n",
    "    file_path = f'{province}-avg_hp.csv'\n",
    "\n",
    "    # Read the CSV file\n",
    "    df = pd.read_csv(file_path)\n",
    "\n",
    "    # Convert the \"column1\" to datetime format with a custom format and then extract the year\n",
    "    df['时间'] = pd.to_datetime(df['时间'], format='%Y年').dt.year\n",
    "\n",
    "    # Set \"column1\" as the new index\n",
    "    df.set_index('时间', inplace=True)\n",
    "\n",
    "    # Save the modified DataFrame back to the CSV file\n",
    "    df.to_csv(f'{province}-avg_hp.csv', index_label='Years')\n",
    "\n",
    "# Display the first few rows of one of the modified DataFrames\n",
    "print(df.head())\n"
   ]
  },
  {
   "cell_type": "code",
   "execution_count": 9,
   "outputs": [
    {
     "name": "stdout",
     "output_type": "stream",
     "text": [
      "   Years  Average sales price of commercial housing (yuan/m^2)  \\\n",
      "0   2022                                            8153.00      \n",
      "1   2021                                            7885.00      \n",
      "2   2020                                            7840.00      \n",
      "3   2019                                            7448.00      \n",
      "4   2018                                            6987.58      \n",
      "\n",
      "   Average sales price of residential commercial buildings (yuan/m^2)  \\\n",
      "0                                            8869.00                    \n",
      "1                                            8304.00                    \n",
      "2                                            8041.00                    \n",
      "3                                            7529.00                    \n",
      "4                                            6691.23                    \n",
      "\n",
      "   Average sales price of villas and high-end apartments (yuan/m^2)  \\\n",
      "0                                                NaN                  \n",
      "1                                                NaN                  \n",
      "2                                                NaN                  \n",
      "3                                           12669.00                  \n",
      "4                                           11340.48                  \n",
      "\n",
      "   Average sales price of commercial buildings in office buildings (yuan/m^2)  \\\n",
      "0                                            9561.00                            \n",
      "1                                           10004.00                            \n",
      "2                                            9528.00                            \n",
      "3                                            9381.00                            \n",
      "4                                           10666.92                            \n",
      "\n",
      "   Average sales price of commercial buildings (yuan/m^2)  \\\n",
      "0                                             9953.0        \n",
      "1                                            10259.0        \n",
      "2                                            10422.0        \n",
      "3                                            10606.0        \n",
      "4                                            11479.3        \n",
      "\n",
      "   Average sales price of other commercial buildings (yuan/m^2)  \n",
      "0                                            2536.00             \n",
      "1                                            2919.00             \n",
      "2                                            3094.00             \n",
      "3                                            3242.00             \n",
      "4                                            3880.95             \n"
     ]
    }
   ],
   "source": [
    "import pandas as pd\n",
    "\n",
    "# List of file names\n",
    "file_names = ['East-Beijing-avg_hp.csv',\n",
    "              'East-FujianProvince-avg_hp.csv',\n",
    "              'East-JiangsuProvince-avg_hp.csv',\n",
    "              'East-ShandongProvince-avg_hp.csv',\n",
    "              'East-Shanghai-avg_hp.csv',\n",
    "              'East-ZhejiangProvince-avg_hp.csv',\n",
    "              'South-GuangdongProvince-avg_hp.csv',\n",
    "              'South-GuizhouProvince-avg_hp.csv',\n",
    "              'South-HenanProvince-avg_hp.csv',\n",
    "              'South-HubeiProvince-avg_hp.csv',\n",
    "              'South-HunanProvince-avg_hp.csv',\n",
    "              'South-JiangxiProvince-avg_hp.csv',\n",
    "              'South-ShaanxiProvince-avg_hp.csv',\n",
    "              'South-YunnanProvince-avg_hp.csv',\n",
    "              'West-ChongqingCity-avg_hp.csv',\n",
    "              'West-SichuanProvince-avg_hp.csv'\n",
    "              ]\n",
    "\n",
    "# Columns mapping\n",
    "column_mapping = {\n",
    "    '商品房平均销售价格(元/平方米)': 'Average sales price of commercial housing (yuan/m^2)',\n",
    "    '住宅商品房平均销售价格(元/平方米)': 'Average sales price of residential commercial buildings (yuan/m^2)',\n",
    "    '别墅、高档公寓平均销售价格(元/平方米)': 'Average sales price of villas and high-end apartments (yuan/m^2)',\n",
    "    '办公楼商品房平均销售价格(元/平方米)': 'Average sales price of commercial buildings in office buildings (yuan/m^2)',\n",
    "    '商业营业用房平均销售价格(元/平方米)': 'Average sales price of commercial buildings (yuan/m^2)',\n",
    "    '其他商品房平均销售价格(元/平方米)': 'Average sales price of other commercial buildings (yuan/m^2)'\n",
    "}\n",
    "\n",
    "# Loop through each file\n",
    "for file_name in file_names:\n",
    "    # Read the CSV file\n",
    "    df = pd.read_csv(file_name)\n",
    "\n",
    "    # Rename columns\n",
    "    df.rename(columns=column_mapping, inplace=True)\n",
    "\n",
    "    # Extract the province name from the file name\n",
    "    province_name = file_name.split('-')[1].split('_')[0]\n",
    "\n",
    "    # Save the modified DataFrame back to the CSV file\n",
    "    df.to_csv(f'{province_name}-avghp_modified.csv', index=False)\n",
    "\n",
    "# Display the first few rows of one of the modified DataFrames\n",
    "print(df.head())\n"
   ],
   "metadata": {
    "collapsed": false,
    "ExecuteTime": {
     "end_time": "2023-11-20T04:02:54.679274Z",
     "start_time": "2023-11-20T04:02:54.632887Z"
    }
   },
   "id": "4524333cacf705e"
  },
  {
   "cell_type": "code",
   "execution_count": null,
   "outputs": [],
   "source": [],
   "metadata": {
    "collapsed": false
   },
   "id": "cabc4418a6fe6f6f"
  }
 ],
 "metadata": {
  "kernelspec": {
   "display_name": "Python 3",
   "language": "python",
   "name": "python3"
  },
  "language_info": {
   "codemirror_mode": {
    "name": "ipython",
    "version": 2
   },
   "file_extension": ".py",
   "mimetype": "text/x-python",
   "name": "python",
   "nbconvert_exporter": "python",
   "pygments_lexer": "ipython2",
   "version": "2.7.6"
  }
 },
 "nbformat": 4,
 "nbformat_minor": 5
}
