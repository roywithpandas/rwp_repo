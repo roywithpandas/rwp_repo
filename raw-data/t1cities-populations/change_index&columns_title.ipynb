{
 "cells": [
  {
   "cell_type": "code",
   "execution_count": 1,
   "id": "initial_id",
   "metadata": {
    "collapsed": true,
    "ExecuteTime": {
     "end_time": "2023-11-17T09:43:50.087659Z",
     "start_time": "2023-11-17T09:43:50.043208Z"
    }
   },
   "outputs": [
    {
     "name": "stdout",
     "output_type": "stream",
     "text": [
      "      年末常住人口(万人)  城镇人口(万人)  乡村人口(万人)  人口出生率(‰)  人口死亡率(‰)  人口自然增长率(‰)\n",
      "时间                                                                  \n",
      "2022        8374    4886.0    3488.0      6.39      9.04       -2.65\n",
      "2021        8372    4841.0    3531.0      6.85      8.74       -1.89\n",
      "2020        8371    4749.0    3622.0       NaN       NaN         NaN\n",
      "2019        8351    4623.0    3728.0     10.70      7.09        3.61\n",
      "2018        8321    4452.0    3869.0     11.05      7.01        4.04\n"
     ]
    }
   ],
   "source": []
  },
  {
   "cell_type": "code",
   "execution_count": null,
   "outputs": [],
   "source": [
    "import pandas as pd\n",
    "import os\n",
    "\n",
    "# List of eastern provinces' names\n",
    "province_names = ['East-BeijingCity', 'East-FujianProvince','East-JiangsuProvince',\n",
    "                  'East-ShandongProvince', 'East-ShanghaiCity', 'East-ZhejiangProvince',\n",
    "                  'South-GuangdongProvince','South-GuizhouProvince','South-HenanProvince',\n",
    "                  'South-HubeiProvince','South-HunanProvince','South-JiangxiProvince',\n",
    "                  'South-ShaanxiProvince','South-YunnanProvince','West-ChongqingCity',\n",
    "                  'West-SichuanProvince']\n",
    "\n",
    "# Loop through each province\n",
    "for province in province_names:\n",
    "    file_path = f'{province}_population.csv'\n",
    "\n",
    "    # Read the CSV file\n",
    "    df = pd.read_csv(file_path)\n",
    "\n",
    "    # Convert the \"column1\" to datetime format with a custom format and then extract the year\n",
    "    df['时间'] = pd.to_datetime(df['时间'], format='%Y年').dt.year\n",
    "\n",
    "    # Set \"column1\" as the new index\n",
    "    df.set_index('时间', inplace=True)\n",
    "\n",
    "    # Save the modified DataFrame back to the CSV file\n",
    "    df.to_csv(f'{province}_population.csv', index_label='Years')\n",
    "\n",
    "# Display the first few rows of one of the modified DataFrames\n",
    "print(df.head())\n"
   ],
   "metadata": {
    "collapsed": false
   },
   "id": "faef83961460cf23"
  },
  {
   "cell_type": "code",
   "execution_count": null,
   "outputs": [],
   "source": [
    "# import pandas as pd\n",
    "# import os\n",
    "# \n",
    "# # List of file names\n",
    "# file_names = ['East-BeijingCity_population.csv', 'East-FujianProvince_population.csv', 'East-JiangsuProvince_population.csv', 'East-ShandongProvince_population.csv', 'East-ShanghaiCity_population.csv', 'East-ZhejiangProvince_population.csv',\n",
    "#               'South-GuangdongProvince_population.csv','South-GuizhouProvince_population.csv','South-HenanProvince_population.csv','South-HubeiProvince_population.csv','South-HunanProvince_population.csv',\n",
    "#               'South-JiangxiProvince_population.csv','South-ShaanxiProvince_population.csv','South-YunnanProvince_population.csv','West-ChongqingCity_population.csv','West-SichuanProvince_population.csv']  # Add all your file names\n",
    "# \n",
    "# # Loop through each file\n",
    "# for file_name in file_names:\n",
    "#     # Read the CSV file\n",
    "#     df = pd.read_csv(file_name)\n",
    "# \n",
    "#     # Rename columns\n",
    "#     df.rename(columns={\n",
    "#         '年末常住人口(万人)': 'Permanent population at the end of the year (10,000 people)',\n",
    "#         '城镇人口(万人)': 'Urban population (10,000 people)',\n",
    "#         '乡村人口(万人)': 'Rural population (10,000 people)',\n",
    "#         '人口出生率(‰)': 'Birth rate (%)',\n",
    "#         '人口死亡率(‰)': 'Population death rate (%)',\n",
    "#         '人口自然增长率(‰)': 'Natural population growth rate (%)'\n",
    "#     }, inplace=True)\n",
    "# \n",
    "#     # Extract the province name from the file name (assuming a consistent naming pattern)\n",
    "#     province_name = file_name.split('-')[1]\n",
    "# \n",
    "#     # Save the modified DataFrame back to the CSV file\n",
    "#     df.to_csv(f'{province_name}_population_modified.csv', index=False)\n",
    "# \n",
    "# # Display the first few rows of one of the modified DataFrames\n",
    "# print(df.head())\n"
   ],
   "metadata": {
    "collapsed": false
   },
   "id": "1295e13c97e041c2"
  },
  {
   "cell_type": "code",
   "execution_count": 3,
   "outputs": [
    {
     "name": "stdout",
     "output_type": "stream",
     "text": [
      "   Years  Permanent population at the end of the year (10,000 people)  \\\n",
      "0   2022                                               8374             \n",
      "1   2021                                               8372             \n",
      "2   2020                                               8371             \n",
      "3   2019                                               8351             \n",
      "4   2018                                               8321             \n",
      "\n",
      "   Urban population (10,000 people)  Rural population (10,000 people)  \\\n",
      "0                            4886.0                            3488.0   \n",
      "1                            4841.0                            3531.0   \n",
      "2                            4749.0                            3622.0   \n",
      "3                            4623.0                            3728.0   \n",
      "4                            4452.0                            3869.0   \n",
      "\n",
      "   Birth rate (%)  Population death rate (%)  \\\n",
      "0            6.39                       9.04   \n",
      "1            6.85                       8.74   \n",
      "2             NaN                        NaN   \n",
      "3           10.70                       7.09   \n",
      "4           11.05                       7.01   \n",
      "\n",
      "   Natural population growth rate (%)  \n",
      "0                               -2.65  \n",
      "1                               -1.89  \n",
      "2                                 NaN  \n",
      "3                                3.61  \n",
      "4                                4.04  \n"
     ]
    }
   ],
   "source": [
    "import pandas as pd\n",
    "\n",
    "# List of file names\n",
    "file_names = ['East-BeijingCity_population.csv', 'East-FujianProvince_population.csv', 'East-JiangsuProvince_population.csv',\n",
    "              'East-ShandongProvince_population.csv', 'East-ShanghaiCity_population.csv', 'East-ZhejiangProvince_population.csv',\n",
    "              'South-GuangdongProvince_population.csv', 'South-GuizhouProvince_population.csv', 'South-HenanProvince_population.csv',\n",
    "              'South-HubeiProvince_population.csv', 'South-HunanProvince_population.csv', 'South-JiangxiProvince_population.csv',\n",
    "              'South-ShaanxiProvince_population.csv', 'South-YunnanProvince_population.csv', 'West-ChongqingCity_population.csv',\n",
    "              'West-SichuanProvince_population.csv']\n",
    "\n",
    "# Columns mapping\n",
    "column_mapping = {\n",
    "    '年末常住人口(万人)': 'Permanent population at the end of the year (10,000 people)',\n",
    "    '城镇人口(万人)': 'Urban population (10,000 people)',\n",
    "    '乡村人口(万人)': 'Rural population (10,000 people)',\n",
    "    '人口出生率(‰)': 'Birth rate (%)',\n",
    "    '人口死亡率(‰)': 'Population death rate (%)',\n",
    "    '人口自然增长率(‰)': 'Natural population growth rate (%)'\n",
    "}\n",
    "\n",
    "# Loop through each file\n",
    "for file_name in file_names:\n",
    "    # Read the CSV file\n",
    "    df = pd.read_csv(file_name)\n",
    "\n",
    "    # Rename columns\n",
    "    df.rename(columns=column_mapping, inplace=True)\n",
    "\n",
    "    # Extract the province name from the file name\n",
    "    province_name = file_name.split('-')[1].split('_')[0]\n",
    "\n",
    "    # Save the modified DataFrame back to the CSV file\n",
    "    df.to_csv(f'{province_name}_population_modified.csv', index=False)\n",
    "\n",
    "# Display the first few rows of one of the modified DataFrames\n",
    "print(df.head())\n"
   ],
   "metadata": {
    "collapsed": false,
    "ExecuteTime": {
     "end_time": "2023-11-17T10:02:23.744453Z",
     "start_time": "2023-11-17T10:02:23.695981Z"
    }
   },
   "id": "ee9e0a7f37d84df7"
  },
  {
   "cell_type": "code",
   "execution_count": null,
   "outputs": [],
   "source": [],
   "metadata": {
    "collapsed": false
   },
   "id": "c5917db11b0f5ad0"
  }
 ],
 "metadata": {
  "kernelspec": {
   "display_name": "Python 3",
   "language": "python",
   "name": "python3"
  },
  "language_info": {
   "codemirror_mode": {
    "name": "ipython",
    "version": 2
   },
   "file_extension": ".py",
   "mimetype": "text/x-python",
   "name": "python",
   "nbconvert_exporter": "python",
   "pygments_lexer": "ipython2",
   "version": "2.7.6"
  }
 },
 "nbformat": 4,
 "nbformat_minor": 5
}
