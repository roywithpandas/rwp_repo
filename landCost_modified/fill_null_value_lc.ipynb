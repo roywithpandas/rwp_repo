{
 "cells": [
  {
   "cell_type": "code",
   "execution_count": 1,
   "id": "initial_id",
   "metadata": {
    "collapsed": true,
    "ExecuteTime": {
     "end_time": "2023-11-21T11:28:46.626522Z",
     "start_time": "2023-11-21T11:28:46.625189Z"
    }
   },
   "outputs": [],
   "source": [
    "import pandas as pd"
   ]
  },
  {
   "cell_type": "markdown",
   "source": [
    "### check the sum of the null value of each columns from the multiple land cost csv files"
   ],
   "metadata": {
    "collapsed": false
   },
   "id": "af480e06cb9336b9"
  },
  {
   "cell_type": "code",
   "execution_count": 5,
   "outputs": [
    {
     "name": "stdout",
     "output_type": "stream",
     "text": [
      "Column 'Years': 0 NaN values\n",
      "Column 'Land area to be developed by real estate development enterprises (10k/m2)': 16 NaN values\n",
      "Column 'Land area purchased by real estate development companies (10k/m2)': 0 NaN values\n",
      "Column 'Land transaction price of real estate development enterprises (100million/yuan)': 16 NaN values\n",
      "Column 'Land purchase costs for real estate development companies (100million/yuan)': 0 NaN values\n"
     ]
    }
   ],
   "source": [
    "\n",
    "# List of file names\n",
    "file_names = ['East-BeijingCity-landcost_modified.csv',\n",
    "              'East-FujianProvince-landcost_modified.csv',\n",
    "              'East-JiangsuProvince-landcost_modified.csv',\n",
    "              'East-ShandongProvince-landcost_modified.csv',\n",
    "              'East-ShanghaiCity-landcost_modified.csv',\n",
    "              'East-ZhejiangProvince-landcost_modified.csv',\n",
    "              'South-GuangdongProvince-landcost_modified.csv',\n",
    "             'South-GuizhouProvince-landcost_modified.csv',\n",
    "              'South-HenanProvince-landcost_modified.csv',\n",
    "              'South-HubeiProvince-landcost_modified.csv',\n",
    "              'South-HunanProvince-landcost_modified.csv',\n",
    "              'South-JiangxiProvince-landcost_modified.csv',\n",
    "              'South-ShaanxiProvince-landcost_modified.csv',\n",
    "              'South-YunnanProvince-landcost_modified.csv',\n",
    "              'West-ChongqingCity-landcost_modified.csv',\n",
    "              'West-SichuanProvince-landcost_modified.csv',]\n",
    "# Initialize a dictionary to store the sum of NaN values for each column\n",
    "na_sum_dict = {}\n",
    "\n",
    "# Loop through each file\n",
    "for file_name in file_names:\n",
    "    # Read the CSV file\n",
    "    df = pd.read_csv(file_name)\n",
    "\n",
    "    # Calculate the sum of NaN values for each column\n",
    "    na_sum_per_column = df.isna().sum()\n",
    "\n",
    "    # Update the dictionary with the sum of NaN values for each column\n",
    "    for column, na_sum in na_sum_per_column.items():\n",
    "        if column in na_sum_dict:\n",
    "            na_sum_dict[column] += na_sum\n",
    "        else:\n",
    "            na_sum_dict[column] = na_sum\n",
    "\n",
    "# Display the sum of NaN values for each column\n",
    "for column, na_sum in na_sum_dict.items():\n",
    "    print(f\"Column '{column}': {na_sum} NaN values\")\n"
   ],
   "metadata": {
    "collapsed": false,
    "ExecuteTime": {
     "end_time": "2023-11-21T11:40:17.259723Z",
     "start_time": "2023-11-21T11:40:17.217160Z"
    }
   },
   "id": "164482abda32abbd"
  },
  {
   "cell_type": "markdown",
   "source": [
    "### fill the null value using the ffill & bfill to fill the forward previous values"
   ],
   "metadata": {
    "collapsed": false
   },
   "id": "793bb81d1257e447"
  },
  {
   "cell_type": "code",
   "execution_count": 10,
   "outputs": [
    {
     "name": "stdout",
     "output_type": "stream",
     "text": [
      "   Years  \\\n",
      "0   2022   \n",
      "1   2021   \n",
      "2   2020   \n",
      "3   2019   \n",
      "4   2018   \n",
      "\n",
      "   Land area to be developed by real estate development enterprises (10k/m2)  \\\n",
      "0                                            2434.85                           \n",
      "1                                            1901.64                           \n",
      "2                                            2102.03                           \n",
      "3                                            2320.03                           \n",
      "4                                            2030.57                           \n",
      "\n",
      "   Land area purchased by real estate development companies (10k/m2)  \\\n",
      "0                                             288.32                   \n",
      "1                                             543.63                   \n",
      "2                                             988.00                   \n",
      "3                                            1056.69                   \n",
      "4                                            1520.10                   \n",
      "\n",
      "   Land transaction price of real estate development enterprises (100million/yuan)  \\\n",
      "0                                             221.10                                 \n",
      "1                                             322.46                                 \n",
      "2                                             620.71                                 \n",
      "3                                             553.07                                 \n",
      "4                                             742.95                                 \n",
      "\n",
      "   Land purchase costs for real estate development companies (100million/yuan)  \n",
      "0                                            1704.48                            \n",
      "1                                            1664.37                            \n",
      "2                                            1426.94                            \n",
      "3                                            1780.39                            \n",
      "4                                            1426.98                            \n"
     ]
    },
    {
     "name": "stderr",
     "output_type": "stream",
     "text": [
      "/var/folders/vg/zd3w7zhd1r970sv3p_1kk5ww0000gn/T/ipykernel_19704/2697836266.py:31: FutureWarning: DataFrame.fillna with 'method' is deprecated and will raise in a future version. Use obj.ffill() or obj.bfill() instead.\n",
      "  df[columns_to_fill] = df[columns_to_fill].fillna(method='bfill').fillna(method='ffill')\n",
      "/var/folders/vg/zd3w7zhd1r970sv3p_1kk5ww0000gn/T/ipykernel_19704/2697836266.py:31: FutureWarning: DataFrame.fillna with 'method' is deprecated and will raise in a future version. Use obj.ffill() or obj.bfill() instead.\n",
      "  df[columns_to_fill] = df[columns_to_fill].fillna(method='bfill').fillna(method='ffill')\n",
      "/var/folders/vg/zd3w7zhd1r970sv3p_1kk5ww0000gn/T/ipykernel_19704/2697836266.py:31: FutureWarning: DataFrame.fillna with 'method' is deprecated and will raise in a future version. Use obj.ffill() or obj.bfill() instead.\n",
      "  df[columns_to_fill] = df[columns_to_fill].fillna(method='bfill').fillna(method='ffill')\n",
      "/var/folders/vg/zd3w7zhd1r970sv3p_1kk5ww0000gn/T/ipykernel_19704/2697836266.py:31: FutureWarning: DataFrame.fillna with 'method' is deprecated and will raise in a future version. Use obj.ffill() or obj.bfill() instead.\n",
      "  df[columns_to_fill] = df[columns_to_fill].fillna(method='bfill').fillna(method='ffill')\n",
      "/var/folders/vg/zd3w7zhd1r970sv3p_1kk5ww0000gn/T/ipykernel_19704/2697836266.py:31: FutureWarning: DataFrame.fillna with 'method' is deprecated and will raise in a future version. Use obj.ffill() or obj.bfill() instead.\n",
      "  df[columns_to_fill] = df[columns_to_fill].fillna(method='bfill').fillna(method='ffill')\n",
      "/var/folders/vg/zd3w7zhd1r970sv3p_1kk5ww0000gn/T/ipykernel_19704/2697836266.py:31: FutureWarning: DataFrame.fillna with 'method' is deprecated and will raise in a future version. Use obj.ffill() or obj.bfill() instead.\n",
      "  df[columns_to_fill] = df[columns_to_fill].fillna(method='bfill').fillna(method='ffill')\n",
      "/var/folders/vg/zd3w7zhd1r970sv3p_1kk5ww0000gn/T/ipykernel_19704/2697836266.py:31: FutureWarning: DataFrame.fillna with 'method' is deprecated and will raise in a future version. Use obj.ffill() or obj.bfill() instead.\n",
      "  df[columns_to_fill] = df[columns_to_fill].fillna(method='bfill').fillna(method='ffill')\n",
      "/var/folders/vg/zd3w7zhd1r970sv3p_1kk5ww0000gn/T/ipykernel_19704/2697836266.py:31: FutureWarning: DataFrame.fillna with 'method' is deprecated and will raise in a future version. Use obj.ffill() or obj.bfill() instead.\n",
      "  df[columns_to_fill] = df[columns_to_fill].fillna(method='bfill').fillna(method='ffill')\n",
      "/var/folders/vg/zd3w7zhd1r970sv3p_1kk5ww0000gn/T/ipykernel_19704/2697836266.py:31: FutureWarning: DataFrame.fillna with 'method' is deprecated and will raise in a future version. Use obj.ffill() or obj.bfill() instead.\n",
      "  df[columns_to_fill] = df[columns_to_fill].fillna(method='bfill').fillna(method='ffill')\n",
      "/var/folders/vg/zd3w7zhd1r970sv3p_1kk5ww0000gn/T/ipykernel_19704/2697836266.py:31: FutureWarning: DataFrame.fillna with 'method' is deprecated and will raise in a future version. Use obj.ffill() or obj.bfill() instead.\n",
      "  df[columns_to_fill] = df[columns_to_fill].fillna(method='bfill').fillna(method='ffill')\n",
      "/var/folders/vg/zd3w7zhd1r970sv3p_1kk5ww0000gn/T/ipykernel_19704/2697836266.py:31: FutureWarning: DataFrame.fillna with 'method' is deprecated and will raise in a future version. Use obj.ffill() or obj.bfill() instead.\n",
      "  df[columns_to_fill] = df[columns_to_fill].fillna(method='bfill').fillna(method='ffill')\n",
      "/var/folders/vg/zd3w7zhd1r970sv3p_1kk5ww0000gn/T/ipykernel_19704/2697836266.py:31: FutureWarning: DataFrame.fillna with 'method' is deprecated and will raise in a future version. Use obj.ffill() or obj.bfill() instead.\n",
      "  df[columns_to_fill] = df[columns_to_fill].fillna(method='bfill').fillna(method='ffill')\n",
      "/var/folders/vg/zd3w7zhd1r970sv3p_1kk5ww0000gn/T/ipykernel_19704/2697836266.py:31: FutureWarning: DataFrame.fillna with 'method' is deprecated and will raise in a future version. Use obj.ffill() or obj.bfill() instead.\n",
      "  df[columns_to_fill] = df[columns_to_fill].fillna(method='bfill').fillna(method='ffill')\n",
      "/var/folders/vg/zd3w7zhd1r970sv3p_1kk5ww0000gn/T/ipykernel_19704/2697836266.py:31: FutureWarning: DataFrame.fillna with 'method' is deprecated and will raise in a future version. Use obj.ffill() or obj.bfill() instead.\n",
      "  df[columns_to_fill] = df[columns_to_fill].fillna(method='bfill').fillna(method='ffill')\n",
      "/var/folders/vg/zd3w7zhd1r970sv3p_1kk5ww0000gn/T/ipykernel_19704/2697836266.py:31: FutureWarning: DataFrame.fillna with 'method' is deprecated and will raise in a future version. Use obj.ffill() or obj.bfill() instead.\n",
      "  df[columns_to_fill] = df[columns_to_fill].fillna(method='bfill').fillna(method='ffill')\n",
      "/var/folders/vg/zd3w7zhd1r970sv3p_1kk5ww0000gn/T/ipykernel_19704/2697836266.py:31: FutureWarning: DataFrame.fillna with 'method' is deprecated and will raise in a future version. Use obj.ffill() or obj.bfill() instead.\n",
      "  df[columns_to_fill] = df[columns_to_fill].fillna(method='bfill').fillna(method='ffill')\n"
     ]
    }
   ],
   "source": [
    "# List of file names\n",
    "file_names = ['East-BeijingCity-landcost_modified.csv',\n",
    "              'East-FujianProvince-landcost_modified.csv',\n",
    "              'East-JiangsuProvince-landcost_modified.csv',\n",
    "              'East-ShandongProvince-landcost_modified.csv',\n",
    "              'East-ShanghaiCity-landcost_modified.csv',\n",
    "              'East-ZhejiangProvince-landcost_modified.csv',\n",
    "              'South-GuangdongProvince-landcost_modified.csv',\n",
    "              'South-GuizhouProvince-landcost_modified.csv',\n",
    "              'South-HenanProvince-landcost_modified.csv',\n",
    "              'South-HubeiProvince-landcost_modified.csv',\n",
    "              'South-HunanProvince-landcost_modified.csv',\n",
    "              'South-JiangxiProvince-landcost_modified.csv',\n",
    "              'South-ShaanxiProvince-landcost_modified.csv',\n",
    "              'South-YunnanProvince-landcost_modified.csv',\n",
    "              'West-ChongqingCity-landcost_modified.csv',\n",
    "              'West-SichuanProvince-landcost_modified.csv',]\n",
    "\n",
    "# Specify the columns to fill NaN values\n",
    "columns_to_fill = ['Land area to be developed by real estate development enterprises (10k/m2)',\n",
    "                   'Land area purchased by real estate development companies (10k/m2)',\n",
    "                   'Land transaction price of real estate development enterprises (100million/yuan)',\n",
    "                   'Land purchase costs for real estate development companies (100million/yuan)']\n",
    "\n",
    "# Loop through each file\n",
    "for file_name in file_names:\n",
    "    # Read the CSV file\n",
    "    df = pd.read_csv(file_name)\n",
    "\n",
    "    # Fill NaN values in the specified columns with the last non-null value (forward fill) (backward bill) \n",
    "    df[columns_to_fill] = df[columns_to_fill].fillna(method='bfill').fillna(method='ffill')\n",
    "\n",
    "    # Save the modified DataFrame back to the CSV file\n",
    "    df.to_csv(file_name, index=False)\n",
    "\n",
    "# Display the first few rows of one of the modified DataFrames\n",
    "print(df.head())\n"
   ],
   "metadata": {
    "collapsed": false,
    "ExecuteTime": {
     "end_time": "2023-11-21T11:42:25.969122Z",
     "start_time": "2023-11-21T11:42:25.944200Z"
    }
   },
   "id": "c7aa25b6e0140dcc"
  },
  {
   "cell_type": "markdown",
   "source": [
    "#### "
   ],
   "metadata": {
    "collapsed": false
   },
   "id": "88a56445bf38ec44"
  },
  {
   "cell_type": "code",
   "execution_count": 11,
   "outputs": [
    {
     "name": "stdout",
     "output_type": "stream",
     "text": [
      "Column 'Years': 0 NaN values\n",
      "Column 'Land area to be developed by real estate development enterprises (10k/m2)': 0 NaN values\n",
      "Column 'Land area purchased by real estate development companies (10k/m2)': 0 NaN values\n",
      "Column 'Land transaction price of real estate development enterprises (100million/yuan)': 0 NaN values\n",
      "Column 'Land purchase costs for real estate development companies (100million/yuan)': 0 NaN values\n"
     ]
    }
   ],
   "source": [
    "\n",
    "# List of file names\n",
    "file_names = ['East-BeijingCity-landcost_modified.csv',\n",
    "              'East-FujianProvince-landcost_modified.csv',\n",
    "              'East-JiangsuProvince-landcost_modified.csv',\n",
    "              'East-ShandongProvince-landcost_modified.csv',\n",
    "              'East-ShanghaiCity-landcost_modified.csv',\n",
    "              'East-ZhejiangProvince-landcost_modified.csv',\n",
    "              'South-GuangdongProvince-landcost_modified.csv',\n",
    "              'South-GuizhouProvince-landcost_modified.csv',\n",
    "              'South-HenanProvince-landcost_modified.csv',\n",
    "              'South-HubeiProvince-landcost_modified.csv',\n",
    "              'South-HunanProvince-landcost_modified.csv',\n",
    "              'South-JiangxiProvince-landcost_modified.csv',\n",
    "              'South-ShaanxiProvince-landcost_modified.csv',\n",
    "              'South-YunnanProvince-landcost_modified.csv',\n",
    "              'West-ChongqingCity-landcost_modified.csv',\n",
    "              'West-SichuanProvince-landcost_modified.csv',]\n",
    "# Initialize a dictionary to store the sum of NaN values for each column\n",
    "na_sum_dict = {}\n",
    "\n",
    "# Loop through each file\n",
    "for file_name in file_names:\n",
    "    # Read the CSV file\n",
    "    df = pd.read_csv(file_name)\n",
    "\n",
    "    # Calculate the sum of NaN values for each column\n",
    "    na_sum_per_column = df.isna().sum()\n",
    "\n",
    "    # Update the dictionary with the sum of NaN values for each column\n",
    "    for column, na_sum in na_sum_per_column.items():\n",
    "        if column in na_sum_dict:\n",
    "            na_sum_dict[column] += na_sum\n",
    "        else:\n",
    "            na_sum_dict[column] = na_sum\n",
    "\n",
    "# Display the sum of NaN values for each column\n",
    "for column, na_sum in na_sum_dict.items():\n",
    "    print(f\"Column '{column}': {na_sum} NaN values\")\n"
   ],
   "metadata": {
    "collapsed": false,
    "ExecuteTime": {
     "end_time": "2023-11-21T11:42:28.897422Z",
     "start_time": "2023-11-21T11:42:28.879142Z"
    }
   },
   "id": "84f95ac2d8ec1246"
  },
  {
   "cell_type": "code",
   "execution_count": null,
   "outputs": [],
   "source": [],
   "metadata": {
    "collapsed": false
   },
   "id": "b0dcc2d226c6a69"
  }
 ],
 "metadata": {
  "kernelspec": {
   "display_name": "Python 3",
   "language": "python",
   "name": "python3"
  },
  "language_info": {
   "codemirror_mode": {
    "name": "ipython",
    "version": 2
   },
   "file_extension": ".py",
   "mimetype": "text/x-python",
   "name": "python",
   "nbconvert_exporter": "python",
   "pygments_lexer": "ipython2",
   "version": "2.7.6"
  }
 },
 "nbformat": 4,
 "nbformat_minor": 5
}
