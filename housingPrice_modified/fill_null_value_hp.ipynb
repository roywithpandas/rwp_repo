{
 "cells": [
  {
   "cell_type": "code",
   "execution_count": 1,
   "id": "initial_id",
   "metadata": {
    "collapsed": true,
    "ExecuteTime": {
     "end_time": "2023-11-20T02:45:47.318831Z",
     "start_time": "2023-11-20T02:45:46.906218Z"
    }
   },
   "outputs": [],
   "source": [
    "import pandas as pd"
   ]
  },
  {
   "cell_type": "markdown",
   "source": [
    "### check the sum of the null value of each columns from the multiple housing price csv files"
   ],
   "metadata": {
    "collapsed": false
   },
   "id": "ccabe7aad853ebce"
  },
  {
   "cell_type": "code",
   "execution_count": 11,
   "outputs": [
    {
     "name": "stdout",
     "output_type": "stream",
     "text": [
      "Column 'Years': 0 NaN values\n",
      "Column 'Average sales price of commercial housing (yuan/m^2)': 0 NaN values\n",
      "Column 'Average sales price of residential commercial buildings (yuan/m^2)': 0 NaN values\n",
      "Column 'Average sales price of villas and high-end apartments (yuan/m^2)': 48 NaN values\n",
      "Column 'Average sales price of commercial buildings in office buildings (yuan/m^2)': 0 NaN values\n",
      "Column 'Average sales price of commercial buildings (yuan/m^2)': 0 NaN values\n",
      "Column 'Average sales price of other commercial buildings (yuan/m^2)': 0 NaN values\n"
     ]
    }
   ],
   "source": [
    "\n",
    "# List of file names\n",
    "file_names = ['East-Beijing-avghp_modified.csv',\n",
    "              'East-FujianProvince-avghp_modified.csv',\n",
    "              'East-JiangsuProvince-avghp_modified.csv',\n",
    "              'East-ShandongProvince-avghp_modified.csv',\n",
    "              'East-ShanghaiCity-avghp_modified.csv',\n",
    "              'East-ZhejiangProvince-avghp_modified.csv',\n",
    "              'South-YunnanProvince-avghp_modified.csv',\n",
    "              'South-GuangdongProvince-avghp_modified.csv',\n",
    "              'South-GuizhouProvince-avghp_modified.csv',\n",
    "              'South-HenanProvince-avghp_modified.csv',\n",
    "              'South-HubeiProvince-avghp_modified.csv',\n",
    "              'South-HunanProvince-avghp_modified.csv',\n",
    "              'South-JiangxiProvince-avghp_modified.csv',\n",
    "              'South-ShaanxiProvince-avghp_modified.csv',\n",
    "              'West-ChongqingCity-avghp_modified.csv',\n",
    "              'West-SichuanProvince-avghp_modified.csv']\n",
    "# Initialize a dictionary to store the sum of NaN values for each column\n",
    "na_sum_dict = {}\n",
    "\n",
    "# Loop through each file\n",
    "for file_name in file_names:\n",
    "    # Read the CSV file\n",
    "    df = pd.read_csv(file_name)\n",
    "\n",
    "    # Calculate the sum of NaN values for each column\n",
    "    na_sum_per_column = df.isna().sum()\n",
    "\n",
    "    # Update the dictionary with the sum of NaN values for each column\n",
    "    for column, na_sum in na_sum_per_column.items():\n",
    "        if column in na_sum_dict:\n",
    "            na_sum_dict[column] += na_sum\n",
    "        else:\n",
    "            na_sum_dict[column] = na_sum\n",
    "\n",
    "# Display the sum of NaN values for each column\n",
    "for column, na_sum in na_sum_dict.items():\n",
    "    print(f\"Column '{column}': {na_sum} NaN values\")\n"
   ],
   "metadata": {
    "collapsed": false,
    "ExecuteTime": {
     "end_time": "2023-11-20T06:33:50.332030Z",
     "start_time": "2023-11-20T06:33:50.307149Z"
    }
   },
   "id": "3cc1f9d02a2c33d9"
  },
  {
   "cell_type": "markdown",
   "source": [
    "### fill the null value using the ffill to fill the forward previous values"
   ],
   "metadata": {
    "collapsed": false
   },
   "id": "165da2acf20e848d"
  },
  {
   "cell_type": "code",
   "execution_count": 12,
   "outputs": [
    {
     "name": "stdout",
     "output_type": "stream",
     "text": [
      "   Years  Average sales price of commercial housing (yuan/m^2)  \\\n",
      "0   2022                                            8153.00      \n",
      "1   2021                                            7885.00      \n",
      "2   2020                                            7840.00      \n",
      "3   2019                                            7448.00      \n",
      "4   2018                                            6987.58      \n",
      "\n",
      "   Average sales price of residential commercial buildings (yuan/m^2)  \\\n",
      "0                                            8869.00                    \n",
      "1                                            8304.00                    \n",
      "2                                            8041.00                    \n",
      "3                                            7529.00                    \n",
      "4                                            6691.23                    \n",
      "\n",
      "   Average sales price of villas and high-end apartments (yuan/m^2)  \\\n",
      "0                                           12669.00                  \n",
      "1                                           12669.00                  \n",
      "2                                           12669.00                  \n",
      "3                                           12669.00                  \n",
      "4                                           11340.48                  \n",
      "\n",
      "   Average sales price of commercial buildings in office buildings (yuan/m^2)  \\\n",
      "0                                            9561.00                            \n",
      "1                                           10004.00                            \n",
      "2                                            9528.00                            \n",
      "3                                            9381.00                            \n",
      "4                                           10666.92                            \n",
      "\n",
      "   Average sales price of commercial buildings (yuan/m^2)  \\\n",
      "0                                             9953.0        \n",
      "1                                            10259.0        \n",
      "2                                            10422.0        \n",
      "3                                            10606.0        \n",
      "4                                            11479.3        \n",
      "\n",
      "   Average sales price of other commercial buildings (yuan/m^2)  \n",
      "0                                            2536.00             \n",
      "1                                            2919.00             \n",
      "2                                            3094.00             \n",
      "3                                            3242.00             \n",
      "4                                            3880.95             \n"
     ]
    },
    {
     "name": "stderr",
     "output_type": "stream",
     "text": [
      "/var/folders/vg/zd3w7zhd1r970sv3p_1kk5ww0000gn/T/ipykernel_12757/1652186591.py:33: FutureWarning: DataFrame.fillna with 'method' is deprecated and will raise in a future version. Use obj.ffill() or obj.bfill() instead.\n",
      "  df[columns_to_fill] = df[columns_to_fill].fillna(method='bfill')\n",
      "/var/folders/vg/zd3w7zhd1r970sv3p_1kk5ww0000gn/T/ipykernel_12757/1652186591.py:33: FutureWarning: DataFrame.fillna with 'method' is deprecated and will raise in a future version. Use obj.ffill() or obj.bfill() instead.\n",
      "  df[columns_to_fill] = df[columns_to_fill].fillna(method='bfill')\n",
      "/var/folders/vg/zd3w7zhd1r970sv3p_1kk5ww0000gn/T/ipykernel_12757/1652186591.py:33: FutureWarning: DataFrame.fillna with 'method' is deprecated and will raise in a future version. Use obj.ffill() or obj.bfill() instead.\n",
      "  df[columns_to_fill] = df[columns_to_fill].fillna(method='bfill')\n",
      "/var/folders/vg/zd3w7zhd1r970sv3p_1kk5ww0000gn/T/ipykernel_12757/1652186591.py:33: FutureWarning: DataFrame.fillna with 'method' is deprecated and will raise in a future version. Use obj.ffill() or obj.bfill() instead.\n",
      "  df[columns_to_fill] = df[columns_to_fill].fillna(method='bfill')\n",
      "/var/folders/vg/zd3w7zhd1r970sv3p_1kk5ww0000gn/T/ipykernel_12757/1652186591.py:33: FutureWarning: DataFrame.fillna with 'method' is deprecated and will raise in a future version. Use obj.ffill() or obj.bfill() instead.\n",
      "  df[columns_to_fill] = df[columns_to_fill].fillna(method='bfill')\n",
      "/var/folders/vg/zd3w7zhd1r970sv3p_1kk5ww0000gn/T/ipykernel_12757/1652186591.py:33: FutureWarning: DataFrame.fillna with 'method' is deprecated and will raise in a future version. Use obj.ffill() or obj.bfill() instead.\n",
      "  df[columns_to_fill] = df[columns_to_fill].fillna(method='bfill')\n",
      "/var/folders/vg/zd3w7zhd1r970sv3p_1kk5ww0000gn/T/ipykernel_12757/1652186591.py:33: FutureWarning: DataFrame.fillna with 'method' is deprecated and will raise in a future version. Use obj.ffill() or obj.bfill() instead.\n",
      "  df[columns_to_fill] = df[columns_to_fill].fillna(method='bfill')\n",
      "/var/folders/vg/zd3w7zhd1r970sv3p_1kk5ww0000gn/T/ipykernel_12757/1652186591.py:33: FutureWarning: DataFrame.fillna with 'method' is deprecated and will raise in a future version. Use obj.ffill() or obj.bfill() instead.\n",
      "  df[columns_to_fill] = df[columns_to_fill].fillna(method='bfill')\n",
      "/var/folders/vg/zd3w7zhd1r970sv3p_1kk5ww0000gn/T/ipykernel_12757/1652186591.py:33: FutureWarning: DataFrame.fillna with 'method' is deprecated and will raise in a future version. Use obj.ffill() or obj.bfill() instead.\n",
      "  df[columns_to_fill] = df[columns_to_fill].fillna(method='bfill')\n",
      "/var/folders/vg/zd3w7zhd1r970sv3p_1kk5ww0000gn/T/ipykernel_12757/1652186591.py:33: FutureWarning: DataFrame.fillna with 'method' is deprecated and will raise in a future version. Use obj.ffill() or obj.bfill() instead.\n",
      "  df[columns_to_fill] = df[columns_to_fill].fillna(method='bfill')\n",
      "/var/folders/vg/zd3w7zhd1r970sv3p_1kk5ww0000gn/T/ipykernel_12757/1652186591.py:33: FutureWarning: DataFrame.fillna with 'method' is deprecated and will raise in a future version. Use obj.ffill() or obj.bfill() instead.\n",
      "  df[columns_to_fill] = df[columns_to_fill].fillna(method='bfill')\n",
      "/var/folders/vg/zd3w7zhd1r970sv3p_1kk5ww0000gn/T/ipykernel_12757/1652186591.py:33: FutureWarning: DataFrame.fillna with 'method' is deprecated and will raise in a future version. Use obj.ffill() or obj.bfill() instead.\n",
      "  df[columns_to_fill] = df[columns_to_fill].fillna(method='bfill')\n",
      "/var/folders/vg/zd3w7zhd1r970sv3p_1kk5ww0000gn/T/ipykernel_12757/1652186591.py:33: FutureWarning: DataFrame.fillna with 'method' is deprecated and will raise in a future version. Use obj.ffill() or obj.bfill() instead.\n",
      "  df[columns_to_fill] = df[columns_to_fill].fillna(method='bfill')\n",
      "/var/folders/vg/zd3w7zhd1r970sv3p_1kk5ww0000gn/T/ipykernel_12757/1652186591.py:33: FutureWarning: DataFrame.fillna with 'method' is deprecated and will raise in a future version. Use obj.ffill() or obj.bfill() instead.\n",
      "  df[columns_to_fill] = df[columns_to_fill].fillna(method='bfill')\n",
      "/var/folders/vg/zd3w7zhd1r970sv3p_1kk5ww0000gn/T/ipykernel_12757/1652186591.py:33: FutureWarning: DataFrame.fillna with 'method' is deprecated and will raise in a future version. Use obj.ffill() or obj.bfill() instead.\n",
      "  df[columns_to_fill] = df[columns_to_fill].fillna(method='bfill')\n",
      "/var/folders/vg/zd3w7zhd1r970sv3p_1kk5ww0000gn/T/ipykernel_12757/1652186591.py:33: FutureWarning: DataFrame.fillna with 'method' is deprecated and will raise in a future version. Use obj.ffill() or obj.bfill() instead.\n",
      "  df[columns_to_fill] = df[columns_to_fill].fillna(method='bfill')\n"
     ]
    }
   ],
   "source": [
    "# List of file names\n",
    "file_names = ['East-BeijingCity-avghp_modified.csv',\n",
    "              'East-FujianProvince-avghp_modified.csv',\n",
    "              'East-JiangsuProvince-avghp_modified.csv',\n",
    "              'East-ShandongProvince-avghp_modified.csv',\n",
    "              'East-ShanghaiCity-avghp_modified.csv',\n",
    "              'East-ZhejiangProvince-avghp_modified.csv',\n",
    "              'South-YunnanProvince-avghp_modified.csv',\n",
    "              'South-GuangdongProvince-avghp_modified.csv',\n",
    "              'South-GuizhouProvince-avghp_modified.csv',\n",
    "              'South-HenanProvince-avghp_modified.csv',\n",
    "              'South-HubeiProvince-avghp_modified.csv',\n",
    "              'South-HunanProvince-avghp_modified.csv',\n",
    "              'South-JiangxiProvince-avghp_modified.csv',\n",
    "              'South-ShaanxiProvince-avghp_modified.csv',\n",
    "              'West-ChongqingCity-avghp_modified.csv',\n",
    "              'West-SichuanProvince-avghp_modified.csv']\n",
    "\n",
    "# Specify the columns to fill NaN values\n",
    "columns_to_fill = ['Average sales price of commercial housing (yuan/m^2)',\n",
    "                   'Average sales price of residential commercial buildings (yuan/m^2)',\n",
    "                   'Average sales price of villas and high-end apartments (yuan/m^2)',\n",
    "                   'Average sales price of commercial buildings in office buildings (yuan/m^2)',\n",
    "                   'Average sales price of commercial buildings (yuan/m^2)',\n",
    "                   'Average sales price of other commercial buildings (yuan/m^2)']\n",
    "\n",
    "# Loop through each file\n",
    "for file_name in file_names:\n",
    "    # Read the CSV file\n",
    "    df = pd.read_csv(file_name)\n",
    "\n",
    "    # Fill NaN values in the specified columns with the last non-null value (forward fill)\n",
    "    df[columns_to_fill] = df[columns_to_fill].fillna(method='bfill')\n",
    "\n",
    "    # Save the modified DataFrame back to the CSV file\n",
    "    df.to_csv(file_name, index=False)\n",
    "\n",
    "# Display the first few rows of one of the modified DataFrames\n",
    "print(df.head())\n"
   ],
   "metadata": {
    "collapsed": false,
    "ExecuteTime": {
     "end_time": "2023-11-20T06:39:55.942830Z",
     "start_time": "2023-11-20T06:39:55.865125Z"
    }
   },
   "id": "23d4cff8060dca60"
  },
  {
   "cell_type": "code",
   "execution_count": 8,
   "outputs": [
    {
     "data": {
      "text/plain": "Index(['Years', 'Average sales price of commercial housing (yuan/m^2)',\n       'Average sales price of residential commercial buildings (yuan/m^2)',\n       'Average sales price of villas and high-end apartments (yuan/m^2)',\n       'Average sales price of commercial buildings in office buildings (yuan/m^2)',\n       'Average sales price of commercial buildings (yuan/m^2)',\n       'Average sales price of other commercial buildings (yuan/m^2)'],\n      dtype='object')"
     },
     "execution_count": 8,
     "metadata": {},
     "output_type": "execute_result"
    }
   ],
   "source": [
    "housing_price_file = pd.read_csv('West-ChongqingCity-avghp_modified.csv')\n",
    "housing_price_file.columns"
   ],
   "metadata": {
    "collapsed": false,
    "ExecuteTime": {
     "end_time": "2023-11-20T06:30:43.845445Z",
     "start_time": "2023-11-20T06:30:43.821152Z"
    }
   },
   "id": "4f88ae976f37c150"
  },
  {
   "cell_type": "code",
   "execution_count": 13,
   "outputs": [
    {
     "name": "stdout",
     "output_type": "stream",
     "text": [
      "Column 'Years': 0 NaN values\n",
      "Column 'Average sales price of commercial housing (yuan/m^2)': 0 NaN values\n",
      "Column 'Average sales price of residential commercial buildings (yuan/m^2)': 0 NaN values\n",
      "Column 'Average sales price of villas and high-end apartments (yuan/m^2)': 0 NaN values\n",
      "Column 'Average sales price of commercial buildings in office buildings (yuan/m^2)': 0 NaN values\n",
      "Column 'Average sales price of commercial buildings (yuan/m^2)': 0 NaN values\n",
      "Column 'Average sales price of other commercial buildings (yuan/m^2)': 0 NaN values\n"
     ]
    }
   ],
   "source": [
    "\n",
    "# List of file names\n",
    "file_names = ['East-Beijing-avghp_modified.csv',\n",
    "              'East-FujianProvince-avghp_modified.csv',\n",
    "              'East-JiangsuProvince-avghp_modified.csv',\n",
    "              'East-ShandongProvince-avghp_modified.csv',\n",
    "              'East-ShanghaiCity-avghp_modified.csv',\n",
    "              'East-ZhejiangProvince-avghp_modified.csv',\n",
    "              'South-YunnanProvince-avghp_modified.csv',\n",
    "              'South-GuangdongProvince-avghp_modified.csv',\n",
    "              'South-GuizhouProvince-avghp_modified.csv',\n",
    "              'South-HenanProvince-avghp_modified.csv',\n",
    "              'South-HubeiProvince-avghp_modified.csv',\n",
    "              'South-HunanProvince-avghp_modified.csv',\n",
    "              'South-JiangxiProvince-avghp_modified.csv',\n",
    "              'South-ShaanxiProvince-avghp_modified.csv',\n",
    "              'West-ChongqingCity-avghp_modified.csv',\n",
    "              'West-SichuanProvince-avghp_modified.csv']\n",
    "# Initialize a dictionary to store the sum of NaN values for each column\n",
    "na_sum_dict = {}\n",
    "\n",
    "# Loop through each file\n",
    "for file_name in file_names:\n",
    "    # Read the CSV file\n",
    "    df = pd.read_csv(file_name)\n",
    "\n",
    "    # Calculate the sum of NaN values for each column\n",
    "    na_sum_per_column = df.isna().sum()\n",
    "\n",
    "    # Update the dictionary with the sum of NaN values for each column\n",
    "    for column, na_sum in na_sum_per_column.items():\n",
    "        if column in na_sum_dict:\n",
    "            na_sum_dict[column] += na_sum\n",
    "        else:\n",
    "            na_sum_dict[column] = na_sum\n",
    "\n",
    "# Display the sum of NaN values for each column\n",
    "for column, na_sum in na_sum_dict.items():\n",
    "    print(f\"Column '{column}': {na_sum} NaN values\")\n"
   ],
   "metadata": {
    "collapsed": false,
    "ExecuteTime": {
     "end_time": "2023-11-20T06:40:03.479744Z",
     "start_time": "2023-11-20T06:40:03.453944Z"
    }
   },
   "id": "b1009cc753e33dc8"
  },
  {
   "cell_type": "code",
   "execution_count": null,
   "outputs": [],
   "source": [],
   "metadata": {
    "collapsed": false
   },
   "id": "5af2c544d7086e25"
  }
 ],
 "metadata": {
  "kernelspec": {
   "display_name": "Python 3",
   "language": "python",
   "name": "python3"
  },
  "language_info": {
   "codemirror_mode": {
    "name": "ipython",
    "version": 2
   },
   "file_extension": ".py",
   "mimetype": "text/x-python",
   "name": "python",
   "nbconvert_exporter": "python",
   "pygments_lexer": "ipython2",
   "version": "2.7.6"
  }
 },
 "nbformat": 4,
 "nbformat_minor": 5
}
